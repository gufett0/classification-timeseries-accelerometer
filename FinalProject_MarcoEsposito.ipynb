{
 "cells": [
  {
   "cell_type": "markdown",
   "metadata": {},
   "source": [
    "## Final Project - Marco Esposito\n",
    "### Introduction\n",
    "\n",
    "The provided data consist of four different csv files: Two *training* dataset files, one containing data about acceleration values of smartpones along the three axes at every time point and the other containing the class labels corresponding to four physical acivities (1 = standing, 2 = walking, 3 = stairs down, 4 = stairs up). Two *testing* dataset files, one containing a smaller amount of acceleration data and the other containing the empty class labels for each time point. Data was collected using the __[Beiwe research platform](https://github.com/onnela-lab/beiwe-backend)__. \n",
    "\n",
    "For this project, I'll attempt to classify the type of physical activity (i.e., class labels) by using a classification model. \n",
    "I'll use 3 different models for predicting categorical output, and with the help of a cross validation randomized search of best parameters I'll evaluate the performance of each model based on F1-score and accuracy metrics. By simply taking the mean of both scores, it'll give an indication on which model has the highest performance for this particular case.\n",
    "\n",
    "\n",
    "\n",
    "(the labels in train_labels.csv are only provided for every 10th observation in train_time_series.csv)"
   ]
  },
  {
   "cell_type": "markdown",
   "metadata": {},
   "source": [
    "### Importing libraries and Loading datasets"
   ]
  },
  {
   "cell_type": "code",
   "execution_count": 20,
   "metadata": {},
   "outputs": [],
   "source": [
    "import pandas as pd\n",
    "import numpy as np\n",
    "from numpy import where\n",
    "from collections import Counter\n",
    "import time\n",
    "\n",
    "from matplotlib import colors\n",
    "import matplotlib.pyplot as plt\n",
    "import matplotlib.ticker as mtick\n",
    "import seaborn as sns\n",
    "from scipy.stats import loguniform, uniform\n",
    "import scipy.stats\n",
    "\n",
    "from sklearn.model_selection import StratifiedKFold, RepeatedStratifiedKFold, RandomizedSearchCV, cross_val_score\n",
    "from sklearn.linear_model import LogisticRegression\n",
    "from sklearn.neighbors import KNeighborsClassifier\n",
    "from sklearn.ensemble import RandomForestClassifier\n",
    "from sklearn.metrics import confusion_matrix, ConfusionMatrixDisplay, classification_report, f1_score, cohen_kappa_score\n",
    "\n",
    "import warnings\n",
    "warnings.filterwarnings('ignore')\n",
    "\n",
    "# get start time\n",
    "t_start = time.perf_counter()\n",
    "# import datasets\n",
    "train_time = pd.read_csv('train_time_series.csv')\n",
    "train_labels = pd.read_csv('train_labels.csv')\n",
    "test_time = pd.read_csv('test_time_series.csv')\n",
    "test_labels = pd.read_csv('test_labels.csv')\n",
    "\n"
   ]
  },
  {
   "cell_type": "markdown",
   "metadata": {},
   "source": [
    "### Exploring and Cleaning Data"
   ]
  },
  {
   "cell_type": "markdown",
   "metadata": {},
   "source": [
    "#### Train datasets:"
   ]
  },
  {
   "cell_type": "code",
   "execution_count": 21,
   "metadata": {},
   "outputs": [
    {
     "data": {
      "text/html": [
       "<div>\n",
       "<style scoped>\n",
       "    .dataframe tbody tr th:only-of-type {\n",
       "        vertical-align: middle;\n",
       "    }\n",
       "\n",
       "    .dataframe tbody tr th {\n",
       "        vertical-align: top;\n",
       "    }\n",
       "\n",
       "    .dataframe thead th {\n",
       "        text-align: right;\n",
       "    }\n",
       "</style>\n",
       "<table border=\"1\" class=\"dataframe\">\n",
       "  <thead>\n",
       "    <tr style=\"text-align: right;\">\n",
       "      <th></th>\n",
       "      <th>Unnamed: 0</th>\n",
       "      <th>timestamp</th>\n",
       "      <th>UTC time</th>\n",
       "      <th>label</th>\n",
       "    </tr>\n",
       "  </thead>\n",
       "  <tbody>\n",
       "    <tr>\n",
       "      <th>0</th>\n",
       "      <td>20589</td>\n",
       "      <td>1565109931087</td>\n",
       "      <td>2019-08-06T16:45:31.087</td>\n",
       "      <td>1</td>\n",
       "    </tr>\n",
       "    <tr>\n",
       "      <th>1</th>\n",
       "      <td>20599</td>\n",
       "      <td>1565109932090</td>\n",
       "      <td>2019-08-06T16:45:32.090</td>\n",
       "      <td>1</td>\n",
       "    </tr>\n",
       "    <tr>\n",
       "      <th>2</th>\n",
       "      <td>20609</td>\n",
       "      <td>1565109933092</td>\n",
       "      <td>2019-08-06T16:45:33.092</td>\n",
       "      <td>1</td>\n",
       "    </tr>\n",
       "    <tr>\n",
       "      <th>3</th>\n",
       "      <td>20619</td>\n",
       "      <td>1565109934094</td>\n",
       "      <td>2019-08-06T16:45:34.094</td>\n",
       "      <td>1</td>\n",
       "    </tr>\n",
       "    <tr>\n",
       "      <th>4</th>\n",
       "      <td>20629</td>\n",
       "      <td>1565109935097</td>\n",
       "      <td>2019-08-06T16:45:35.097</td>\n",
       "      <td>1</td>\n",
       "    </tr>\n",
       "    <tr>\n",
       "      <th>...</th>\n",
       "      <td>...</td>\n",
       "      <td>...</td>\n",
       "      <td>...</td>\n",
       "      <td>...</td>\n",
       "    </tr>\n",
       "    <tr>\n",
       "      <th>370</th>\n",
       "      <td>24289</td>\n",
       "      <td>1565110302030</td>\n",
       "      <td>2019-08-06T16:51:42.030</td>\n",
       "      <td>4</td>\n",
       "    </tr>\n",
       "    <tr>\n",
       "      <th>371</th>\n",
       "      <td>24299</td>\n",
       "      <td>1565110303032</td>\n",
       "      <td>2019-08-06T16:51:43.032</td>\n",
       "      <td>4</td>\n",
       "    </tr>\n",
       "    <tr>\n",
       "      <th>372</th>\n",
       "      <td>24309</td>\n",
       "      <td>1565110304034</td>\n",
       "      <td>2019-08-06T16:51:44.034</td>\n",
       "      <td>4</td>\n",
       "    </tr>\n",
       "    <tr>\n",
       "      <th>373</th>\n",
       "      <td>24319</td>\n",
       "      <td>1565110305037</td>\n",
       "      <td>2019-08-06T16:51:45.037</td>\n",
       "      <td>4</td>\n",
       "    </tr>\n",
       "    <tr>\n",
       "      <th>374</th>\n",
       "      <td>24329</td>\n",
       "      <td>1565110306039</td>\n",
       "      <td>2019-08-06T16:51:46.039</td>\n",
       "      <td>4</td>\n",
       "    </tr>\n",
       "  </tbody>\n",
       "</table>\n",
       "<p>375 rows × 4 columns</p>\n",
       "</div>"
      ],
      "text/plain": [
       "     Unnamed: 0      timestamp                 UTC time  label\n",
       "0         20589  1565109931087  2019-08-06T16:45:31.087      1\n",
       "1         20599  1565109932090  2019-08-06T16:45:32.090      1\n",
       "2         20609  1565109933092  2019-08-06T16:45:33.092      1\n",
       "3         20619  1565109934094  2019-08-06T16:45:34.094      1\n",
       "4         20629  1565109935097  2019-08-06T16:45:35.097      1\n",
       "..          ...            ...                      ...    ...\n",
       "370       24289  1565110302030  2019-08-06T16:51:42.030      4\n",
       "371       24299  1565110303032  2019-08-06T16:51:43.032      4\n",
       "372       24309  1565110304034  2019-08-06T16:51:44.034      4\n",
       "373       24319  1565110305037  2019-08-06T16:51:45.037      4\n",
       "374       24329  1565110306039  2019-08-06T16:51:46.039      4\n",
       "\n",
       "[375 rows x 4 columns]"
      ]
     },
     "metadata": {},
     "output_type": "display_data"
    },
    {
     "data": {
      "text/html": [
       "<div>\n",
       "<style scoped>\n",
       "    .dataframe tbody tr th:only-of-type {\n",
       "        vertical-align: middle;\n",
       "    }\n",
       "\n",
       "    .dataframe tbody tr th {\n",
       "        vertical-align: top;\n",
       "    }\n",
       "\n",
       "    .dataframe thead th {\n",
       "        text-align: right;\n",
       "    }\n",
       "</style>\n",
       "<table border=\"1\" class=\"dataframe\">\n",
       "  <thead>\n",
       "    <tr style=\"text-align: right;\">\n",
       "      <th></th>\n",
       "      <th>Unnamed: 0</th>\n",
       "      <th>timestamp</th>\n",
       "      <th>UTC time</th>\n",
       "      <th>accuracy</th>\n",
       "      <th>x</th>\n",
       "      <th>y</th>\n",
       "      <th>z</th>\n",
       "    </tr>\n",
       "  </thead>\n",
       "  <tbody>\n",
       "    <tr>\n",
       "      <th>0</th>\n",
       "      <td>20586</td>\n",
       "      <td>1565109930787</td>\n",
       "      <td>2019-08-06T16:45:30.787</td>\n",
       "      <td>unknown</td>\n",
       "      <td>-0.006485</td>\n",
       "      <td>-0.934860</td>\n",
       "      <td>-0.069046</td>\n",
       "    </tr>\n",
       "    <tr>\n",
       "      <th>1</th>\n",
       "      <td>20587</td>\n",
       "      <td>1565109930887</td>\n",
       "      <td>2019-08-06T16:45:30.887</td>\n",
       "      <td>unknown</td>\n",
       "      <td>-0.066467</td>\n",
       "      <td>-1.015442</td>\n",
       "      <td>0.089554</td>\n",
       "    </tr>\n",
       "    <tr>\n",
       "      <th>2</th>\n",
       "      <td>20588</td>\n",
       "      <td>1565109930987</td>\n",
       "      <td>2019-08-06T16:45:30.987</td>\n",
       "      <td>unknown</td>\n",
       "      <td>-0.043488</td>\n",
       "      <td>-1.021255</td>\n",
       "      <td>0.178467</td>\n",
       "    </tr>\n",
       "    <tr>\n",
       "      <th>3</th>\n",
       "      <td>20589</td>\n",
       "      <td>1565109931087</td>\n",
       "      <td>2019-08-06T16:45:31.087</td>\n",
       "      <td>unknown</td>\n",
       "      <td>-0.053802</td>\n",
       "      <td>-0.987701</td>\n",
       "      <td>0.068985</td>\n",
       "    </tr>\n",
       "    <tr>\n",
       "      <th>4</th>\n",
       "      <td>20590</td>\n",
       "      <td>1565109931188</td>\n",
       "      <td>2019-08-06T16:45:31.188</td>\n",
       "      <td>unknown</td>\n",
       "      <td>-0.054031</td>\n",
       "      <td>-1.003616</td>\n",
       "      <td>0.126450</td>\n",
       "    </tr>\n",
       "    <tr>\n",
       "      <th>...</th>\n",
       "      <td>...</td>\n",
       "      <td>...</td>\n",
       "      <td>...</td>\n",
       "      <td>...</td>\n",
       "      <td>...</td>\n",
       "      <td>...</td>\n",
       "      <td>...</td>\n",
       "    </tr>\n",
       "    <tr>\n",
       "      <th>3739</th>\n",
       "      <td>24325</td>\n",
       "      <td>1565110305638</td>\n",
       "      <td>2019-08-06T16:51:45.638</td>\n",
       "      <td>unknown</td>\n",
       "      <td>0.024384</td>\n",
       "      <td>-0.710709</td>\n",
       "      <td>0.030304</td>\n",
       "    </tr>\n",
       "    <tr>\n",
       "      <th>3740</th>\n",
       "      <td>24326</td>\n",
       "      <td>1565110305738</td>\n",
       "      <td>2019-08-06T16:51:45.738</td>\n",
       "      <td>unknown</td>\n",
       "      <td>0.487228</td>\n",
       "      <td>-1.099136</td>\n",
       "      <td>-0.015213</td>\n",
       "    </tr>\n",
       "    <tr>\n",
       "      <th>3741</th>\n",
       "      <td>24327</td>\n",
       "      <td>1565110305838</td>\n",
       "      <td>2019-08-06T16:51:45.838</td>\n",
       "      <td>unknown</td>\n",
       "      <td>0.369446</td>\n",
       "      <td>-0.968506</td>\n",
       "      <td>0.036713</td>\n",
       "    </tr>\n",
       "    <tr>\n",
       "      <th>3742</th>\n",
       "      <td>24328</td>\n",
       "      <td>1565110305939</td>\n",
       "      <td>2019-08-06T16:51:45.939</td>\n",
       "      <td>unknown</td>\n",
       "      <td>0.167877</td>\n",
       "      <td>-0.802826</td>\n",
       "      <td>0.049805</td>\n",
       "    </tr>\n",
       "    <tr>\n",
       "      <th>3743</th>\n",
       "      <td>24329</td>\n",
       "      <td>1565110306039</td>\n",
       "      <td>2019-08-06T16:51:46.039</td>\n",
       "      <td>unknown</td>\n",
       "      <td>0.689346</td>\n",
       "      <td>-0.991043</td>\n",
       "      <td>0.034973</td>\n",
       "    </tr>\n",
       "  </tbody>\n",
       "</table>\n",
       "<p>3744 rows × 7 columns</p>\n",
       "</div>"
      ],
      "text/plain": [
       "      Unnamed: 0      timestamp                 UTC time accuracy         x  \\\n",
       "0          20586  1565109930787  2019-08-06T16:45:30.787  unknown -0.006485   \n",
       "1          20587  1565109930887  2019-08-06T16:45:30.887  unknown -0.066467   \n",
       "2          20588  1565109930987  2019-08-06T16:45:30.987  unknown -0.043488   \n",
       "3          20589  1565109931087  2019-08-06T16:45:31.087  unknown -0.053802   \n",
       "4          20590  1565109931188  2019-08-06T16:45:31.188  unknown -0.054031   \n",
       "...          ...            ...                      ...      ...       ...   \n",
       "3739       24325  1565110305638  2019-08-06T16:51:45.638  unknown  0.024384   \n",
       "3740       24326  1565110305738  2019-08-06T16:51:45.738  unknown  0.487228   \n",
       "3741       24327  1565110305838  2019-08-06T16:51:45.838  unknown  0.369446   \n",
       "3742       24328  1565110305939  2019-08-06T16:51:45.939  unknown  0.167877   \n",
       "3743       24329  1565110306039  2019-08-06T16:51:46.039  unknown  0.689346   \n",
       "\n",
       "             y         z  \n",
       "0    -0.934860 -0.069046  \n",
       "1    -1.015442  0.089554  \n",
       "2    -1.021255  0.178467  \n",
       "3    -0.987701  0.068985  \n",
       "4    -1.003616  0.126450  \n",
       "...        ...       ...  \n",
       "3739 -0.710709  0.030304  \n",
       "3740 -1.099136 -0.015213  \n",
       "3741 -0.968506  0.036713  \n",
       "3742 -0.802826  0.049805  \n",
       "3743 -0.991043  0.034973  \n",
       "\n",
       "[3744 rows x 7 columns]"
      ]
     },
     "metadata": {},
     "output_type": "display_data"
    }
   ],
   "source": [
    "display(train_labels, train_time)"
   ]
  },
  {
   "cell_type": "markdown",
   "metadata": {},
   "source": [
    "#### Test datasets:"
   ]
  },
  {
   "cell_type": "code",
   "execution_count": 22,
   "metadata": {},
   "outputs": [
    {
     "data": {
      "text/html": [
       "<div>\n",
       "<style scoped>\n",
       "    .dataframe tbody tr th:only-of-type {\n",
       "        vertical-align: middle;\n",
       "    }\n",
       "\n",
       "    .dataframe tbody tr th {\n",
       "        vertical-align: top;\n",
       "    }\n",
       "\n",
       "    .dataframe thead th {\n",
       "        text-align: right;\n",
       "    }\n",
       "</style>\n",
       "<table border=\"1\" class=\"dataframe\">\n",
       "  <thead>\n",
       "    <tr style=\"text-align: right;\">\n",
       "      <th></th>\n",
       "      <th>Unnamed: 0</th>\n",
       "      <th>timestamp</th>\n",
       "      <th>UTC time</th>\n",
       "      <th>label</th>\n",
       "    </tr>\n",
       "  </thead>\n",
       "  <tbody>\n",
       "    <tr>\n",
       "      <th>0</th>\n",
       "      <td>24339</td>\n",
       "      <td>1565110307041</td>\n",
       "      <td>2019-08-06T16:51:47.041</td>\n",
       "      <td>NaN</td>\n",
       "    </tr>\n",
       "    <tr>\n",
       "      <th>1</th>\n",
       "      <td>24349</td>\n",
       "      <td>1565110308043</td>\n",
       "      <td>2019-08-06T16:51:48.043</td>\n",
       "      <td>NaN</td>\n",
       "    </tr>\n",
       "    <tr>\n",
       "      <th>2</th>\n",
       "      <td>24359</td>\n",
       "      <td>1565110309046</td>\n",
       "      <td>2019-08-06T16:51:49.046</td>\n",
       "      <td>NaN</td>\n",
       "    </tr>\n",
       "    <tr>\n",
       "      <th>3</th>\n",
       "      <td>24369</td>\n",
       "      <td>1565110310048</td>\n",
       "      <td>2019-08-06T16:51:50.048</td>\n",
       "      <td>NaN</td>\n",
       "    </tr>\n",
       "    <tr>\n",
       "      <th>4</th>\n",
       "      <td>24379</td>\n",
       "      <td>1565110311050</td>\n",
       "      <td>2019-08-06T16:51:51.050</td>\n",
       "      <td>NaN</td>\n",
       "    </tr>\n",
       "    <tr>\n",
       "      <th>...</th>\n",
       "      <td>...</td>\n",
       "      <td>...</td>\n",
       "      <td>...</td>\n",
       "      <td>...</td>\n",
       "    </tr>\n",
       "    <tr>\n",
       "      <th>120</th>\n",
       "      <td>25539</td>\n",
       "      <td>1565110427366</td>\n",
       "      <td>2019-08-06T16:53:47.366</td>\n",
       "      <td>NaN</td>\n",
       "    </tr>\n",
       "    <tr>\n",
       "      <th>121</th>\n",
       "      <td>25549</td>\n",
       "      <td>1565110428369</td>\n",
       "      <td>2019-08-06T16:53:48.369</td>\n",
       "      <td>NaN</td>\n",
       "    </tr>\n",
       "    <tr>\n",
       "      <th>122</th>\n",
       "      <td>25559</td>\n",
       "      <td>1565110429371</td>\n",
       "      <td>2019-08-06T16:53:49.371</td>\n",
       "      <td>NaN</td>\n",
       "    </tr>\n",
       "    <tr>\n",
       "      <th>123</th>\n",
       "      <td>25569</td>\n",
       "      <td>1565110430373</td>\n",
       "      <td>2019-08-06T16:53:50.373</td>\n",
       "      <td>NaN</td>\n",
       "    </tr>\n",
       "    <tr>\n",
       "      <th>124</th>\n",
       "      <td>25579</td>\n",
       "      <td>1565110431376</td>\n",
       "      <td>2019-08-06T16:53:51.376</td>\n",
       "      <td>NaN</td>\n",
       "    </tr>\n",
       "  </tbody>\n",
       "</table>\n",
       "<p>125 rows × 4 columns</p>\n",
       "</div>"
      ],
      "text/plain": [
       "     Unnamed: 0      timestamp                 UTC time  label\n",
       "0         24339  1565110307041  2019-08-06T16:51:47.041    NaN\n",
       "1         24349  1565110308043  2019-08-06T16:51:48.043    NaN\n",
       "2         24359  1565110309046  2019-08-06T16:51:49.046    NaN\n",
       "3         24369  1565110310048  2019-08-06T16:51:50.048    NaN\n",
       "4         24379  1565110311050  2019-08-06T16:51:51.050    NaN\n",
       "..          ...            ...                      ...    ...\n",
       "120       25539  1565110427366  2019-08-06T16:53:47.366    NaN\n",
       "121       25549  1565110428369  2019-08-06T16:53:48.369    NaN\n",
       "122       25559  1565110429371  2019-08-06T16:53:49.371    NaN\n",
       "123       25569  1565110430373  2019-08-06T16:53:50.373    NaN\n",
       "124       25579  1565110431376  2019-08-06T16:53:51.376    NaN\n",
       "\n",
       "[125 rows x 4 columns]"
      ]
     },
     "metadata": {},
     "output_type": "display_data"
    },
    {
     "data": {
      "text/html": [
       "<div>\n",
       "<style scoped>\n",
       "    .dataframe tbody tr th:only-of-type {\n",
       "        vertical-align: middle;\n",
       "    }\n",
       "\n",
       "    .dataframe tbody tr th {\n",
       "        vertical-align: top;\n",
       "    }\n",
       "\n",
       "    .dataframe thead th {\n",
       "        text-align: right;\n",
       "    }\n",
       "</style>\n",
       "<table border=\"1\" class=\"dataframe\">\n",
       "  <thead>\n",
       "    <tr style=\"text-align: right;\">\n",
       "      <th></th>\n",
       "      <th>Unnamed: 0</th>\n",
       "      <th>timestamp</th>\n",
       "      <th>UTC time</th>\n",
       "      <th>accuracy</th>\n",
       "      <th>x</th>\n",
       "      <th>y</th>\n",
       "      <th>z</th>\n",
       "    </tr>\n",
       "  </thead>\n",
       "  <tbody>\n",
       "    <tr>\n",
       "      <th>0</th>\n",
       "      <td>24330</td>\n",
       "      <td>1565110306139</td>\n",
       "      <td>2019-08-06T16:51:46.139</td>\n",
       "      <td>unknown</td>\n",
       "      <td>0.034286</td>\n",
       "      <td>-1.504456</td>\n",
       "      <td>0.157623</td>\n",
       "    </tr>\n",
       "    <tr>\n",
       "      <th>1</th>\n",
       "      <td>24331</td>\n",
       "      <td>1565110306239</td>\n",
       "      <td>2019-08-06T16:51:46.239</td>\n",
       "      <td>unknown</td>\n",
       "      <td>0.409164</td>\n",
       "      <td>-1.038544</td>\n",
       "      <td>0.030975</td>\n",
       "    </tr>\n",
       "    <tr>\n",
       "      <th>2</th>\n",
       "      <td>24332</td>\n",
       "      <td>1565110306340</td>\n",
       "      <td>2019-08-06T16:51:46.340</td>\n",
       "      <td>unknown</td>\n",
       "      <td>-0.234390</td>\n",
       "      <td>-0.984558</td>\n",
       "      <td>0.124771</td>\n",
       "    </tr>\n",
       "    <tr>\n",
       "      <th>3</th>\n",
       "      <td>24333</td>\n",
       "      <td>1565110306440</td>\n",
       "      <td>2019-08-06T16:51:46.440</td>\n",
       "      <td>unknown</td>\n",
       "      <td>0.251114</td>\n",
       "      <td>-0.787003</td>\n",
       "      <td>0.054810</td>\n",
       "    </tr>\n",
       "    <tr>\n",
       "      <th>4</th>\n",
       "      <td>24334</td>\n",
       "      <td>1565110306540</td>\n",
       "      <td>2019-08-06T16:51:46.540</td>\n",
       "      <td>unknown</td>\n",
       "      <td>0.109924</td>\n",
       "      <td>-0.169510</td>\n",
       "      <td>0.235550</td>\n",
       "    </tr>\n",
       "    <tr>\n",
       "      <th>...</th>\n",
       "      <td>...</td>\n",
       "      <td>...</td>\n",
       "      <td>...</td>\n",
       "      <td>...</td>\n",
       "      <td>...</td>\n",
       "      <td>...</td>\n",
       "      <td>...</td>\n",
       "    </tr>\n",
       "    <tr>\n",
       "      <th>1245</th>\n",
       "      <td>25575</td>\n",
       "      <td>1565110430975</td>\n",
       "      <td>2019-08-06T16:53:50.975</td>\n",
       "      <td>unknown</td>\n",
       "      <td>0.036499</td>\n",
       "      <td>-0.724823</td>\n",
       "      <td>0.553802</td>\n",
       "    </tr>\n",
       "    <tr>\n",
       "      <th>1246</th>\n",
       "      <td>25576</td>\n",
       "      <td>1565110431075</td>\n",
       "      <td>2019-08-06T16:53:51.075</td>\n",
       "      <td>unknown</td>\n",
       "      <td>-0.159241</td>\n",
       "      <td>0.307022</td>\n",
       "      <td>0.142410</td>\n",
       "    </tr>\n",
       "    <tr>\n",
       "      <th>1247</th>\n",
       "      <td>25577</td>\n",
       "      <td>1565110431175</td>\n",
       "      <td>2019-08-06T16:53:51.175</td>\n",
       "      <td>unknown</td>\n",
       "      <td>-0.037964</td>\n",
       "      <td>-0.673706</td>\n",
       "      <td>1.065445</td>\n",
       "    </tr>\n",
       "    <tr>\n",
       "      <th>1248</th>\n",
       "      <td>25578</td>\n",
       "      <td>1565110431275</td>\n",
       "      <td>2019-08-06T16:53:51.275</td>\n",
       "      <td>unknown</td>\n",
       "      <td>0.255707</td>\n",
       "      <td>-1.485397</td>\n",
       "      <td>-0.013336</td>\n",
       "    </tr>\n",
       "    <tr>\n",
       "      <th>1249</th>\n",
       "      <td>25579</td>\n",
       "      <td>1565110431376</td>\n",
       "      <td>2019-08-06T16:53:51.376</td>\n",
       "      <td>unknown</td>\n",
       "      <td>-0.089462</td>\n",
       "      <td>-0.734573</td>\n",
       "      <td>-0.100876</td>\n",
       "    </tr>\n",
       "  </tbody>\n",
       "</table>\n",
       "<p>1250 rows × 7 columns</p>\n",
       "</div>"
      ],
      "text/plain": [
       "      Unnamed: 0      timestamp                 UTC time accuracy         x  \\\n",
       "0          24330  1565110306139  2019-08-06T16:51:46.139  unknown  0.034286   \n",
       "1          24331  1565110306239  2019-08-06T16:51:46.239  unknown  0.409164   \n",
       "2          24332  1565110306340  2019-08-06T16:51:46.340  unknown -0.234390   \n",
       "3          24333  1565110306440  2019-08-06T16:51:46.440  unknown  0.251114   \n",
       "4          24334  1565110306540  2019-08-06T16:51:46.540  unknown  0.109924   \n",
       "...          ...            ...                      ...      ...       ...   \n",
       "1245       25575  1565110430975  2019-08-06T16:53:50.975  unknown  0.036499   \n",
       "1246       25576  1565110431075  2019-08-06T16:53:51.075  unknown -0.159241   \n",
       "1247       25577  1565110431175  2019-08-06T16:53:51.175  unknown -0.037964   \n",
       "1248       25578  1565110431275  2019-08-06T16:53:51.275  unknown  0.255707   \n",
       "1249       25579  1565110431376  2019-08-06T16:53:51.376  unknown -0.089462   \n",
       "\n",
       "             y         z  \n",
       "0    -1.504456  0.157623  \n",
       "1    -1.038544  0.030975  \n",
       "2    -0.984558  0.124771  \n",
       "3    -0.787003  0.054810  \n",
       "4    -0.169510  0.235550  \n",
       "...        ...       ...  \n",
       "1245 -0.724823  0.553802  \n",
       "1246  0.307022  0.142410  \n",
       "1247 -0.673706  1.065445  \n",
       "1248 -1.485397 -0.013336  \n",
       "1249 -0.734573 -0.100876  \n",
       "\n",
       "[1250 rows x 7 columns]"
      ]
     },
     "metadata": {},
     "output_type": "display_data"
    }
   ],
   "source": [
    "display(test_labels, test_time)"
   ]
  },
  {
   "cell_type": "markdown",
   "metadata": {},
   "source": [
    "#### Check if there are any missing values"
   ]
  },
  {
   "cell_type": "code",
   "execution_count": 23,
   "metadata": {},
   "outputs": [
    {
     "name": "stdout",
     "output_type": "stream",
     "text": [
      "Train time series missing values: \n",
      " Unnamed: 0    0\n",
      "timestamp     0\n",
      "UTC time      0\n",
      "accuracy      0\n",
      "x             0\n",
      "y             0\n",
      "z             0\n",
      "dtype: int64\n",
      "Test time series missing values: \n",
      " Unnamed: 0    0\n",
      "timestamp     0\n",
      "UTC time      0\n",
      "accuracy      0\n",
      "x             0\n",
      "y             0\n",
      "z             0\n",
      "dtype: int64\n",
      "Train labels missing values: \n",
      " Unnamed: 0    0\n",
      "timestamp     0\n",
      "UTC time      0\n",
      "label         0\n",
      "dtype: int64\n"
     ]
    }
   ],
   "source": [
    "print(\"Train time series missing values: \\n\", train_time.isna().sum())\n",
    "print(\"Test time series missing values: \\n\", test_time.isna().sum())\n",
    "print(\"Train labels missing values: \\n\", train_labels.isna().sum())"
   ]
  },
  {
   "cell_type": "markdown",
   "metadata": {},
   "source": [
    "#### Check most common class"
   ]
  },
  {
   "cell_type": "code",
   "execution_count": 24,
   "metadata": {},
   "outputs": [
    {
     "name": "stdout",
     "output_type": "stream",
     "text": [
      "Class labels count:\n",
      " 2    213\n",
      "3     88\n",
      "4     47\n",
      "1     27\n",
      "Name: label, dtype: int64\n"
     ]
    },
    {
     "data": {
      "image/png": "[encoded data removed]",
      "text/plain": [
       "<Figure size 432x288 with 1 Axes>"
      ]
     },
     "metadata": {
      "needs_background": "light"
     },
     "output_type": "display_data"
    }
   ],
   "source": [
    "# Check most common class\n",
    "print(\"Class labels count:\\n\", train_labels['label'].value_counts())\n",
    "# Name class labels for later plotting \n",
    "one = 'standing'\n",
    "two = 'walking'\n",
    "three = 'stairs down'\n",
    "four = 'stairs up'\n",
    "plt.bar([1,2,3,4], train_labels['label'].value_counts(), tick_label=[two, three, four, one]);\n"
   ]
  },
  {
   "cell_type": "markdown",
   "metadata": {},
   "source": [
    "From the above count the dataset presents itself as strongly **imbalanced**.\n",
    "Since collecting more data is not an option here, I'll make use of oversampling to mitigate this issue. \n"
   ]
  },
  {
   "cell_type": "markdown",
   "metadata": {},
   "source": [
    "#### Define input and output variables"
   ]
  },
  {
   "cell_type": "markdown",
   "metadata": {},
   "source": [
    "Since labels in train_labels.csv are provided for every 10th observation, indeces of timestamps associated with labels in both train and test set need to be extracted."
   ]
  },
  {
   "cell_type": "code",
   "execution_count": 25,
   "metadata": {},
   "outputs": [
    {
     "name": "stdout",
     "output_type": "stream",
     "text": [
      "Now the outcome y has the same number of observation as the predictors X: \n",
      " True\n"
     ]
    }
   ],
   "source": [
    "# 1st get corresponding indeces of timestamps\n",
    "idx_train = np.isin( train_time['timestamp'], train_labels['timestamp']) \n",
    "idx_test = np.isin( test_time['timestamp'], test_labels['timestamp']) \n",
    "\n",
    "# 2nd define inputs and outputs for our models.\n",
    "# We're only interested in the last 3 cols for the input matrix (i.e., accelerations x,y,z)\n",
    "X_train = train_time[idx_train].iloc[:, -3:]\n",
    "X_test = test_time[idx_test].iloc[:, -3:]\n",
    "y_train = train_labels['label']\n",
    "# Do the numbers check out? \n",
    "print(\"Now the outcome y has the same number of observation as the predictors X: \\n\", len(y_train) == len(X_train))"
   ]
  },
  {
   "cell_type": "code",
   "execution_count": 26,
   "metadata": {},
   "outputs": [],
   "source": [
    "train_mean = X_train.mean()\n",
    "train_std = X_train.std()\n",
    "\n",
    "X_train = (X_train - train_mean) / train_std\n",
    "X_test = (X_test - train_mean) / train_std"
   ]
  },
  {
   "cell_type": "markdown",
   "metadata": {},
   "source": [
    "### Visualize the data"
   ]
  },
  {
   "cell_type": "markdown",
   "metadata": {},
   "source": [
    "Check distributions and correlations of input data"
   ]
  },
  {
   "cell_type": "code",
   "execution_count": 27,
   "metadata": {},
   "outputs": [
    {
     "data": {
      "image/png": "[encoded data removed]",
      "text/plain": [
       "<Figure size 432x288 with 2 Axes>"
      ]
     },
     "metadata": {
      "needs_background": "light"
     },
     "output_type": "display_data"
    },
    {
     "data": {
      "image/png": "[encoded data removed]",
      "text/plain": [
       "<Figure size 432x288 with 1 Axes>"
      ]
     },
     "metadata": {
      "needs_background": "light"
     },
     "output_type": "display_data"
    }
   ],
   "source": [
    "cmap = colors.ListedColormap(['#9B856A', '#124559', '#475962', '#598392'])\n",
    "ax = plt.axes()\n",
    "sns.heatmap(X_train.corr(), annot=True, fmt='.2f', cmap=cmap, ax = ax)\n",
    "ax.set_title('Correlations among input data')\n",
    "\n",
    "plt.figure()\n",
    "plt.hist(X_train.iloc[:,0], bins='auto', color='#0504aa',\n",
    "                            alpha=0.55, rwidth=0.85, label='x');\n",
    "\n",
    "plt.hist(X_train.iloc[:,1], bins='auto', color='#9B856A',\n",
    "                            alpha=0.55, rwidth=0.85, label='y');\n",
    "plt.hist(X_train.iloc[:,2], bins='auto', color='#124559',\n",
    "                            alpha=0.55, rwidth=0.85, label='z');\n",
    "plt.legend(loc='upper right', title = 'Accelerations');\n",
    "plt.title('Distributions of the inputs');\n"
   ]
  },
  {
   "cell_type": "markdown",
   "metadata": {},
   "source": [
    "Check distribution of inputs as a function of class labels"
   ]
  },
  {
   "cell_type": "code",
   "execution_count": 28,
   "metadata": {},
   "outputs": [
    {
     "name": "stdout",
     "output_type": "stream",
     "text": [
      "Switch to %matplotlib qt if you want to interact and rotate the 3D plot\n"
     ]
    },
    {
     "data": {
      "image/png": "[encoded data removed]",
      "text/plain": [
       "<Figure size 640x480 with 1 Axes>"
      ]
     },
     "metadata": {
      "needs_background": "light"
     },
     "output_type": "display_data"
    }
   ],
   "source": [
    "print( 'Switch to %matplotlib qt if you want to interact and rotate the 3D plot')\n",
    "#%matplotlib qt\n",
    "%matplotlib inline\n",
    "counter = Counter(y_train)\n",
    "fig = plt.figure(figsize=(8, 6), dpi=80)\n",
    "ax = fig.add_subplot(projection='3d')\n",
    "for label, _ in counter.items():\n",
    "\trow_ix = where(y_train == label)[0]\n",
    "\tax.scatter(X_train.iloc[row_ix, 0], X_train.iloc[row_ix, 1], X_train.iloc[row_ix, 2], alpha=0.7,label=str(label),marker='o', s=20)\n",
    "plt.legend(loc='upper right', title = 'Classes')\n",
    "ax.set_xlabel('x-axis')\n",
    "ax.set_ylabel('y-axis')\n",
    "ax.set_zlabel('z-axis');"
   ]
  },
  {
   "cell_type": "markdown",
   "metadata": {},
   "source": [
    "Also from the above scatter plot one can get a sense of the strong imbalance and overlapping of data."
   ]
  },
  {
   "cell_type": "markdown",
   "metadata": {},
   "source": [
    "### Modeling"
   ]
  },
  {
   "cell_type": "markdown",
   "metadata": {},
   "source": [
    "#### Model selection\n",
    "For this project I'll focus on the three classification models that were covered in the course: *multinomial logistic regression*, *random forest classifier* and *nearest neighbors classifier*. To structure each of these models, a randomized grid search of respective hyperparameters will be used. In a randomized search, a statistical distribution for each hyperparameter is provided from which values may be randomly sampled.\n",
    "(The range of values for tuning the random forest classifier were taken from __[this blog post](https://towardsdatascience.com/a-practical-guide-to-implementing-a-random-forest-classifier-in-python-979988d8a263)__).  "
   ]
  },
  {
   "cell_type": "markdown",
   "metadata": {},
   "source": [
    "#### Define the range of possible values for all hyperparameters:"
   ]
  },
  {
   "cell_type": "code",
   "execution_count": 29,
   "metadata": {},
   "outputs": [],
   "source": [
    "hyper_param = [{},{},{}]\n",
    "\n",
    "## Search space for Logistic Regression\n",
    "hyper_param[0]['solver'] = ['lbfgs', 'liblinear']\n",
    "hyper_param[0]['penalty'] = ['none', 'l1', 'l2', 'elasticnet']\n",
    "hyper_param[0]['C'] = loguniform(1e0, 1e3)\n",
    "\n",
    "## Search space for Random Forest Classifier\n",
    "hyper_param[1] = {'n_estimators': np.linspace(100, 3000, int((3000-100)/200) + 1, dtype=int),  # Number of trees in random forest\n",
    "'max_features': ['auto', 'sqrt'],  # Number of features to consider at every split\n",
    "'max_depth': [1, 5, 10, 20, 50, 75, 100, 150, 200],  # Maximum number of levels in tree\n",
    "'min_samples_split': [1, 2, 5, 10, 15, 20, 30],  # Minimum number of samples required to split a node\n",
    "'min_samples_leaf': [1, 2, 3, 4],  # Minimum number of samples required at each leaf node\n",
    "'bootstrap': [True, False],\n",
    "'criterion': ['gini', 'entropy']}\n",
    "\n",
    "## Search space for Nearest Neighbors Classifier\n",
    "hyper_param[2] = {'leaf_size': list(range(1,50)), 'n_neighbors': list(range(1,30)), 'p': [1,2]}"
   ]
  },
  {
   "cell_type": "markdown",
   "metadata": {},
   "source": [
    "#### Loop through the hyperparameters space and corresponding models:\n",
    "After each model is tuned with the best hyperparameters, it will be fitted to the training set and scoring results will be stored in lists.\n",
    "A stratified K-Fold cross validation will be used to account for the large imbalance of class labels (each fold will have approximately the same percentage of samples of each class label). "
   ]
  },
  {
   "cell_type": "code",
   "execution_count": 30,
   "metadata": {},
   "outputs": [
    {
     "name": "stdout",
     "output_type": "stream",
     "text": [
      "Fitting 4 folds for each of 10 candidates, totalling 40 fits\n",
      "Fitting 4 folds for each of 10 candidates, totalling 40 fits\n",
      "Fitting 4 folds for each of 10 candidates, totalling 40 fits\n"
     ]
    }
   ],
   "source": [
    "models = [LogisticRegression(multi_class='multinomial'), RandomForestClassifier(), KNeighborsClassifier()]\n",
    "\n",
    "# Initialize empty lists for storing results\n",
    "accuracies = []\n",
    "pred_classes = []\n",
    "f1score = []\n",
    "kappascore = []\n",
    "conf_mtx = []\n",
    "bestparameters = []\n",
    "skf = StratifiedKFold(n_splits=4)\n",
    "\n",
    "for m, s in zip(models, hyper_param):\n",
    "    \n",
    "    clf = RandomizedSearchCV(m, s, n_iter=10, scoring='accuracy', n_jobs=4, cv=skf, verbose=2, random_state=42)\n",
    "    clf.fit(X_train, y_train)\n",
    "    bestparameters.append( clf.best_params_ )\n",
    "    \n",
    "    accuracies.append( clf.score(X_train, y_train) )\n",
    "    kappascore.append( cohen_kappa_score(y_train, clf.predict(X_train)))\n",
    "    pred_classes.append( clf.predict(X_train) )\n",
    "    f1score.append( f1_score(y_train, clf.predict(X_train), average=\"weighted\")) \n",
    "    conf_mtx.append( confusion_matrix(y_train, clf.predict(X_train),  labels = [1, 2, 3, 4]) )"
   ]
  },
  {
   "cell_type": "markdown",
   "metadata": {},
   "source": [
    "**Confusion matrices of models performance**"
   ]
  },
  {
   "cell_type": "code",
   "execution_count": 31,
   "metadata": {},
   "outputs": [
    {
     "data": {
      "image/png": "[encoded data removed]",
      "text/plain": [
       "<Figure size 1440x360 with 4 Axes>"
      ]
     },
     "metadata": {
      "needs_background": "light"
     },
     "output_type": "display_data"
    }
   ],
   "source": [
    "m_names = ['LogisticRegression', 'RandomForestClassifier', 'KNeighborsClassifier']\n",
    "\n",
    "f, axes = plt.subplots(1, 3, figsize=(20, 5), sharey='row')\n",
    "for n, i in enumerate(m_names):\n",
    "    disp = ConfusionMatrixDisplay(conf_mtx[n], display_labels=[one, two, three, four])\n",
    "    disp.plot(ax=axes[n], xticks_rotation=45)\n",
    "    disp.ax_.set_title(i)\n",
    "    disp.im_.colorbar.remove()\n",
    "    disp.ax_.set_xlabel('')\n",
    "    if n!=0:\n",
    "        disp.ax_.set_ylabel('')\n",
    "               \n",
    "f.text(0.4, 0.1, 'Predicted labels', ha='left')\n",
    "plt.subplots_adjust(wspace=1.7, hspace=0.1)        \n",
    "f.colorbar(disp.im_, ax=axes)\n",
    "plt.show()\n",
    "        "
   ]
  },
  {
   "cell_type": "markdown",
   "metadata": {},
   "source": [
    "Since accuracy alone is not optimal to evaluate imbalanced datasets (i.e., accuracy paradox), **model selection will be based on the average between Accuracy and F1-scores**. Furthermore, the highest Cohen's kappa score, a value between -1 and 1, will be assessed to further confirm the best model (kappa score represents accuracy normalized by the imbalance of the classes in the data)."
   ]
  },
  {
   "cell_type": "code",
   "execution_count": 32,
   "metadata": {},
   "outputs": [
    {
     "data": {
      "text/html": [
       "<div>\n",
       "<style scoped>\n",
       "    .dataframe tbody tr th:only-of-type {\n",
       "        vertical-align: middle;\n",
       "    }\n",
       "\n",
       "    .dataframe tbody tr th {\n",
       "        vertical-align: top;\n",
       "    }\n",
       "\n",
       "    .dataframe thead th {\n",
       "        text-align: right;\n",
       "    }\n",
       "</style>\n",
       "<table border=\"1\" class=\"dataframe\">\n",
       "  <thead>\n",
       "    <tr style=\"text-align: right;\">\n",
       "      <th></th>\n",
       "      <th>Model</th>\n",
       "      <th>Accuracy</th>\n",
       "      <th>F1-scores</th>\n",
       "      <th>Average Acc-F1</th>\n",
       "      <th>Kappa-scores</th>\n",
       "    </tr>\n",
       "  </thead>\n",
       "  <tbody>\n",
       "    <tr>\n",
       "      <th>0</th>\n",
       "      <td>LogisticRegression</td>\n",
       "      <td>0.562667</td>\n",
       "      <td>0.409737</td>\n",
       "      <td>0.486202</td>\n",
       "      <td>-0.006135</td>\n",
       "    </tr>\n",
       "    <tr>\n",
       "      <th>1</th>\n",
       "      <td>RandomForestClassifier</td>\n",
       "      <td>0.722667</td>\n",
       "      <td>0.675894</td>\n",
       "      <td>0.699280</td>\n",
       "      <td>0.458995</td>\n",
       "    </tr>\n",
       "    <tr>\n",
       "      <th>2</th>\n",
       "      <td>KNeighborsClassifier</td>\n",
       "      <td>0.632000</td>\n",
       "      <td>0.552030</td>\n",
       "      <td>0.592015</td>\n",
       "      <td>0.270366</td>\n",
       "    </tr>\n",
       "  </tbody>\n",
       "</table>\n",
       "</div>"
      ],
      "text/plain": [
       "                    Model  Accuracy  F1-scores  Average Acc-F1  Kappa-scores\n",
       "0      LogisticRegression  0.562667   0.409737        0.486202     -0.006135\n",
       "1  RandomForestClassifier  0.722667   0.675894        0.699280      0.458995\n",
       "2    KNeighborsClassifier  0.632000   0.552030        0.592015      0.270366"
      ]
     },
     "execution_count": 32,
     "metadata": {},
     "output_type": "execute_result"
    }
   ],
   "source": [
    "# Store in df model selection results\n",
    "results = pd.DataFrame({'Model': m_names, 'Accuracy': accuracies,'F1-scores':f1score, \n",
    "                        'Average Acc-F1':np.mean([f1score,accuracies],axis=0),'Kappa-scores':kappascore})\n",
    "results"
   ]
  },
  {
   "cell_type": "markdown",
   "metadata": {},
   "source": [
    "The above metrics point to the Random Forest Classifier as the best model in our case.\n",
    "However, from the confusion matrix and the Cohen's kappa score it is clear that the there is still not a good agreement in the data, hence model performance is still impaired by the class label imbalance."
   ]
  },
  {
   "cell_type": "markdown",
   "metadata": {},
   "source": [
    "### SMOTE for Balancing Data\n",
    "\n",
    "Now that the best model using randomized search was selected, I'll try to see if a resampled dataset deliver better results. Given the small size of the train set, data was augmented (i.e., oversampled) for the minority classes.\n",
    "__[SMOTE algorithm](https://machinelearningmastery.com/smote-oversampling-for-imbalanced-classification/)__ works by selecting examples that are close in the feature space, drawing a line between the examples in the feature space and drawing a new sample at a point along that line."
   ]
  },
  {
   "cell_type": "markdown",
   "metadata": {},
   "source": [
    "**Generate new samples**"
   ]
  },
  {
   "cell_type": "code",
   "execution_count": 33,
   "metadata": {},
   "outputs": [
    {
     "name": "stdout",
     "output_type": "stream",
     "text": [
      "Data before SMOTE:  Counter({2: 213, 3: 88, 4: 47, 1: 27})\n",
      "Data after SMOTE:  Counter({1: 213, 2: 213, 4: 213, 3: 213})\n"
     ]
    }
   ],
   "source": [
    "from imblearn.over_sampling import SMOTE\n",
    "\n",
    "oversample = SMOTE()\n",
    "X, y = oversample.fit_resample(X_train, y_train)\n",
    "print('Data before SMOTE: ', Counter(y_train) )\n",
    "print('Data after SMOTE: ', Counter(y) )"
   ]
  },
  {
   "cell_type": "markdown",
   "metadata": {},
   "source": [
    "**Fit classifier to the newly generated train set**"
   ]
  },
  {
   "cell_type": "code",
   "execution_count": 34,
   "metadata": {
    "scrolled": true
   },
   "outputs": [
    {
     "data": {
      "text/html": [
       "<div>\n",
       "<style scoped>\n",
       "    .dataframe tbody tr th:only-of-type {\n",
       "        vertical-align: middle;\n",
       "    }\n",
       "\n",
       "    .dataframe tbody tr th {\n",
       "        vertical-align: top;\n",
       "    }\n",
       "\n",
       "    .dataframe thead th {\n",
       "        text-align: right;\n",
       "    }\n",
       "</style>\n",
       "<table border=\"1\" class=\"dataframe\">\n",
       "  <thead>\n",
       "    <tr style=\"text-align: right;\">\n",
       "      <th></th>\n",
       "      <th>Accuracy</th>\n",
       "      <th>F1-scores</th>\n",
       "      <th>Kappa-scores</th>\n",
       "    </tr>\n",
       "  </thead>\n",
       "  <tbody>\n",
       "    <tr>\n",
       "      <th>Imbalanced data</th>\n",
       "      <td>0.722667</td>\n",
       "      <td>0.675894</td>\n",
       "      <td>0.458995</td>\n",
       "    </tr>\n",
       "    <tr>\n",
       "      <th>SMOTE data</th>\n",
       "      <td>0.850939</td>\n",
       "      <td>0.848939</td>\n",
       "      <td>0.801252</td>\n",
       "    </tr>\n",
       "  </tbody>\n",
       "</table>\n",
       "</div>"
      ],
      "text/plain": [
       "                 Accuracy  F1-scores  Kappa-scores\n",
       "Imbalanced data  0.722667   0.675894      0.458995\n",
       "SMOTE data       0.850939   0.848939      0.801252"
      ]
     },
     "execution_count": 34,
     "metadata": {},
     "output_type": "execute_result"
    }
   ],
   "source": [
    "p = bestparameters[1] # Use best parameters as previously selected\n",
    "model = RandomForestClassifier(**p) # unpack the dict of parameters into the classifier\n",
    "model.fit(X, y)\n",
    "\n",
    "results2 = pd.DataFrame({'Accuracy': [accuracies[1], model.score(X, y)],\n",
    "                      'F1-scores':[f1score[1], f1_score(y, model.predict(X), average=\"weighted\")],\n",
    "                        'Kappa-scores':[ kappascore[1], cohen_kappa_score(y, model.predict(X))] })\n",
    "results2.index = ['Imbalanced data', 'SMOTE data']\n",
    "results2\n"
   ]
  },
  {
   "cell_type": "markdown",
   "metadata": {},
   "source": [
    "### Predict labels and store results\n",
    "Now predicted labels will be generated for the *test dataset*."
   ]
  },
  {
   "cell_type": "code",
   "execution_count": 35,
   "metadata": {},
   "outputs": [
    {
     "name": "stdout",
     "output_type": "stream",
     "text": [
      "61.75527486199985\n"
     ]
    },
    {
     "data": {
      "text/html": [
       "<div>\n",
       "<style scoped>\n",
       "    .dataframe tbody tr th:only-of-type {\n",
       "        vertical-align: middle;\n",
       "    }\n",
       "\n",
       "    .dataframe tbody tr th {\n",
       "        vertical-align: top;\n",
       "    }\n",
       "\n",
       "    .dataframe thead th {\n",
       "        text-align: right;\n",
       "    }\n",
       "</style>\n",
       "<table border=\"1\" class=\"dataframe\">\n",
       "  <thead>\n",
       "    <tr style=\"text-align: right;\">\n",
       "      <th></th>\n",
       "      <th>Unnamed: 0</th>\n",
       "      <th>timestamp</th>\n",
       "      <th>UTC time</th>\n",
       "      <th>label</th>\n",
       "    </tr>\n",
       "  </thead>\n",
       "  <tbody>\n",
       "    <tr>\n",
       "      <th>0</th>\n",
       "      <td>24339</td>\n",
       "      <td>1565110307041</td>\n",
       "      <td>2019-08-06T16:51:47.041</td>\n",
       "      <td>3</td>\n",
       "    </tr>\n",
       "    <tr>\n",
       "      <th>1</th>\n",
       "      <td>24349</td>\n",
       "      <td>1565110308043</td>\n",
       "      <td>2019-08-06T16:51:48.043</td>\n",
       "      <td>4</td>\n",
       "    </tr>\n",
       "    <tr>\n",
       "      <th>2</th>\n",
       "      <td>24359</td>\n",
       "      <td>1565110309046</td>\n",
       "      <td>2019-08-06T16:51:49.046</td>\n",
       "      <td>4</td>\n",
       "    </tr>\n",
       "    <tr>\n",
       "      <th>3</th>\n",
       "      <td>24369</td>\n",
       "      <td>1565110310048</td>\n",
       "      <td>2019-08-06T16:51:50.048</td>\n",
       "      <td>3</td>\n",
       "    </tr>\n",
       "    <tr>\n",
       "      <th>4</th>\n",
       "      <td>24379</td>\n",
       "      <td>1565110311050</td>\n",
       "      <td>2019-08-06T16:51:51.050</td>\n",
       "      <td>2</td>\n",
       "    </tr>\n",
       "    <tr>\n",
       "      <th>...</th>\n",
       "      <td>...</td>\n",
       "      <td>...</td>\n",
       "      <td>...</td>\n",
       "      <td>...</td>\n",
       "    </tr>\n",
       "    <tr>\n",
       "      <th>120</th>\n",
       "      <td>25539</td>\n",
       "      <td>1565110427366</td>\n",
       "      <td>2019-08-06T16:53:47.366</td>\n",
       "      <td>2</td>\n",
       "    </tr>\n",
       "    <tr>\n",
       "      <th>121</th>\n",
       "      <td>25549</td>\n",
       "      <td>1565110428369</td>\n",
       "      <td>2019-08-06T16:53:48.369</td>\n",
       "      <td>2</td>\n",
       "    </tr>\n",
       "    <tr>\n",
       "      <th>122</th>\n",
       "      <td>25559</td>\n",
       "      <td>1565110429371</td>\n",
       "      <td>2019-08-06T16:53:49.371</td>\n",
       "      <td>4</td>\n",
       "    </tr>\n",
       "    <tr>\n",
       "      <th>123</th>\n",
       "      <td>25569</td>\n",
       "      <td>1565110430373</td>\n",
       "      <td>2019-08-06T16:53:50.373</td>\n",
       "      <td>2</td>\n",
       "    </tr>\n",
       "    <tr>\n",
       "      <th>124</th>\n",
       "      <td>25579</td>\n",
       "      <td>1565110431376</td>\n",
       "      <td>2019-08-06T16:53:51.376</td>\n",
       "      <td>2</td>\n",
       "    </tr>\n",
       "  </tbody>\n",
       "</table>\n",
       "<p>125 rows × 4 columns</p>\n",
       "</div>"
      ],
      "text/plain": [
       "     Unnamed: 0      timestamp                 UTC time  label\n",
       "0         24339  1565110307041  2019-08-06T16:51:47.041      3\n",
       "1         24349  1565110308043  2019-08-06T16:51:48.043      4\n",
       "2         24359  1565110309046  2019-08-06T16:51:49.046      4\n",
       "3         24369  1565110310048  2019-08-06T16:51:50.048      3\n",
       "4         24379  1565110311050  2019-08-06T16:51:51.050      2\n",
       "..          ...            ...                      ...    ...\n",
       "120       25539  1565110427366  2019-08-06T16:53:47.366      2\n",
       "121       25549  1565110428369  2019-08-06T16:53:48.369      2\n",
       "122       25559  1565110429371  2019-08-06T16:53:49.371      4\n",
       "123       25569  1565110430373  2019-08-06T16:53:50.373      2\n",
       "124       25579  1565110431376  2019-08-06T16:53:51.376      2\n",
       "\n",
       "[125 rows x 4 columns]"
      ]
     },
     "execution_count": 35,
     "metadata": {},
     "output_type": "execute_result"
    }
   ],
   "source": [
    "output = model.predict(X_test)\n",
    "# get end time \n",
    "t_end = time.perf_counter()\n",
    "t_diff = t_end - t_start\n",
    "print(t_diff)\n",
    "\n",
    "test_labels['label'] = output\n",
    "test_labels\n"
   ]
  },
  {
   "cell_type": "code",
   "execution_count": 36,
   "metadata": {},
   "outputs": [],
   "source": [
    "test_labels.to_csv('test_predicted_labels.csv')"
   ]
  }
 ],
 "metadata": {
  "kernelspec": {
   "display_name": "Python 3",
   "language": "python",
   "name": "python3"
  },
  "language_info": {
   "codemirror_mode": {
    "name": "ipython",
    "version": 3
   },
   "file_extension": ".py",
   "mimetype": "text/x-python",
   "name": "python",
   "nbconvert_exporter": "python",
   "pygments_lexer": "ipython3",
   "version": "3.8.3"
  }
 },
 "nbformat": 4,
 "nbformat_minor": 4
}
